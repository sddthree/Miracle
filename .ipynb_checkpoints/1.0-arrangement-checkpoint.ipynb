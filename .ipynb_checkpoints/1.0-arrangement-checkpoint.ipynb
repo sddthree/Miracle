{
 "cells": [
  {
   "cell_type": "markdown",
   "metadata": {},
   "source": [
    "# Course Arrangement"
   ]
  },
  {
   "cell_type": "markdown",
   "metadata": {},
   "source": [
    "**Dr. Pengfei Zhao**\n",
    "\n",
    "Finance Mathematics Program, \n",
    "\n",
    "BNU-HKBU United International College"
   ]
  },
  {
   "cell_type": "markdown",
   "metadata": {},
   "source": [
    "## 1. How to learn programming?"
   ]
  },
  {
   "cell_type": "markdown",
   "metadata": {},
   "source": [
    "* For some students, this is your first touch of programming. You are lucky enough to choose `Python` as the first programming language since it is simple, powerful, widely used.\n",
    "\n",
    "* How to learn `***` well is a common question. Learning programming language has many commons with other subjects, e.g. spend time, keep practicing, etc, but it also has its own characters. According to 12 years of my own experience, I summarize the points below:\n",
    "\n",
    "    * **Coding.** `Talk is cheap. Show me the code.` This is the famous quote from [Linus Torvalds](https://en.wikiquote.org/wiki/Linus_Torvalds). The best way to learn programming is to write code. This is the **most important** thing you learn any programming language. All the following tips are based on this golden rule.\n",
    "    * **Read code**. From the study of industry level code writen by experts you can learn a lot, e.g. how to design the system, syntax which are not taught in class, etc. The most popular site is [GitHub](https://github.com). You can easily `clone` the project into local computer and study the code.   \n",
    "    * **Sprit of solving problems.** When you run code, you will encounter uncountable unexpected `bugs`. Sometimes they are subtle and you may feel frustrated that the output is not what you expect. If you have watched the movie \"The Martian\", the below quotes may inspire you.\n",
    "    [![Watch the video](https://raw.github.com/GabLeRoux/WebMole/master/ressources/WebMole_Youtube_Video.png)](https://www.youtube.com/watch?v=mDYCLFE86Po)\n",
    "\n",
    "> At some point, everything's gonna go south on you and you're going to say, this is it. This is how I end. Now you can either accept that, or you can get to work. That's all it is. You just begin. You do the math. You solve one problem and you solve the next one, and then the next. And If you solve enough problems, you get come home.\n",
    "\n"
   ]
  },
  {
   "cell_type": "markdown",
   "metadata": {},
   "source": [
    "## 2. About this course"
   ]
  },
  {
   "cell_type": "markdown",
   "metadata": {},
   "source": [
    "### 2.1 How to get an `A`"
   ]
  },
  {
   "cell_type": "markdown",
   "metadata": {},
   "source": [
    "|  <div>Assessment Methods</div> | Weighting |\n",
    "| --- | --- |\n",
    "| Quiz | 20% |\n",
    "| Projects | 40% |\n",
    "| Programming Final Exam | 20% |\n",
    "| Written Final Exam | 20% |"
   ]
  },
  {
   "cell_type": "markdown",
   "metadata": {},
   "source": [
    "### 2.2 About the Projects"
   ]
  },
  {
   "cell_type": "markdown",
   "metadata": {},
   "source": [
    "* There will be 3 projects. Each of which requires you to code.\n",
    "* No team.\n",
    "* Do not expect to copy-paste or slightly modify other students' code. Will use the code plagiarism detection software to detect similar codes. High-similarity codes will all be graded 0."
   ]
  },
  {
   "cell_type": "markdown",
   "metadata": {},
   "source": [
    "#### 2.2.1 Project 1: Statistics of HongLouMeng characters"
   ]
  },
  {
   "cell_type": "markdown",
   "metadata": {},
   "source": [
    " <img src=\"../Figures/name_cloud.png\" width = \"280\" height = \"150\" alt=\"图片名称\" align=center />"
   ]
  },
  {
   "cell_type": "markdown",
   "metadata": {},
   "source": [
    "#### 2.2.2 Project 2: Construct python logo by class students names"
   ]
  },
  {
   "cell_type": "markdown",
   "metadata": {},
   "source": [
    "* Given the Python Logo picture and enrolled student lists, use student names to construct the Python Logo."
   ]
  },
  {
   "cell_type": "markdown",
   "metadata": {},
   "source": [
    "Python Logo              |  Class 1 Logo |  Class 2 Logo | \n",
    ":-------------------------:|:-------------------------:|:-------------------------:|\n",
    "<img src=\"../Figures/python1600.png\" width = \"300\" height = \"550\"/>  |  <img src=\"../Figures/python-string-py1.jpg\" width = \"300\" height = \"550\"/>  |   <img src=\"../Figures/python-string-py2.jpg\" width = \"300\" height = \"550\"/>  | "
   ]
  },
  {
   "cell_type": "markdown",
   "metadata": {
    "collapsed": true
   },
   "source": [
    "#### 2.2.3 Project 3: Golden cross is really Golden?"
   ]
  },
  {
   "cell_type": "markdown",
   "metadata": {},
   "source": [
    "* Given a period of daily stock price, we apply the Golden Cross strategy to do the trading. Examine the earnings."
   ]
  },
  {
   "cell_type": "markdown",
   "metadata": {},
   "source": [
    " <img src=\"../Figures/tencent.jpeg\" width = \"580\" height = \"450\" alt=\"图片名称\" align=center />"
   ]
  },
  {
   "cell_type": "markdown",
   "metadata": {},
   "source": [
    "## 3. About the Quantitative Trading (QT) Club"
   ]
  },
  {
   "cell_type": "markdown",
   "metadata": {},
   "source": [
    "* In the quantitative trading WeChat group, articles are posted from time to time, and you have already gained some basic knowledge about QT.\n",
    "\n",
    "* There has some important points about this team:"
   ]
  },
  {
   "cell_type": "markdown",
   "metadata": {},
   "source": [
    "### 3.1 What does QT club do?"
   ]
  },
  {
   "cell_type": "markdown",
   "metadata": {},
   "source": [
    "* Different to various traditional student community, the QT club is highly technology and product oriented. We will spend most of the time studying various technologies relating to quantitative trading, and the goal is to build product benefitting the education and research in UIC.\n",
    "\n",
    "* The club will do tech meet up from time to time, share the technology learned by each club member. Once the technology is mature, we start to implement the system, and come up with a product which can be used by UIC students and staff. For example, the product can be a comprehensive financial database, an algorithm trading system, and so on.\n",
    "\n",
    "* Besides the meet up within semester, we will do system development during the summer holiday, with possibly paid salary (depending on the financial status).\n",
    "\n",
    "* Visit tech firms."
   ]
  },
  {
   "cell_type": "markdown",
   "metadata": {},
   "source": [
    "### 3.2 What will you benefit from the QT club?"
   ]
  },
  {
   "cell_type": "markdown",
   "metadata": {},
   "source": [
    "* A community full of energetic students who are interested with financial and computer science technologies. Enjoy the time learning and sharing together.\n",
    "* One to one supervision for a long period of time. Guidance to learn financial technologies.\n",
    "* Get hands on experience to implement visible and usable financial products, which will add great credits for you to apply for post-graduate study, making you distingushable from other students.\n",
    "* Research assistant opportunity during the summer holiday. When other students are enjoying their summer holiday at home or traveling, you will have clear objective to learn technology and impelement product which will be of impact.\n",
    "* Expose to industry. May get chances to be referred internship opportunities in high-tech firms."
   ]
  },
  {
   "cell_type": "markdown",
   "metadata": {},
   "source": [
    "### 3.3 What is the requirement to join the club?"
   ]
  },
  {
   "cell_type": "markdown",
   "metadata": {},
   "source": [
    "* In this stage, I decide to set the club quota as 10. Depending on the number of students who would like to join the club, selection criteria may be needed. Currently in my mind I decide to set the following selection criterias:\n",
    "```\n",
    "(1) Math and computer science related courses GPA. This will count most of the weight, e.g. 90%.\n",
    "(2) Personal statement demonstrating your strong passion on the QT club.\n",
    "```\n",
    "\n",
    "* I know above criteria is a very rough selection criteria. It will become more detailed at the selection stage. But generally if you are good at math and programming, you will have much more chances to be selected."
   ]
  },
  {
   "cell_type": "markdown",
   "metadata": {},
   "source": [
    "### 3.4 What is the requirement of staying in the club?"
   ]
  },
  {
   "cell_type": "markdown",
   "metadata": {},
   "source": [
    "* Joining the club should not be conflict with your regular study. Students should obtain at least B+ (included) semester GPA. Students whose semester GPA lower than B+ will be advised to quit the club.\n",
    "\n",
    "* Club members should join club activities regularly. If students are not interested in the club any more, it is allowed to quit immediately.\n",
    "\n",
    "* Other requirements may be added later."
   ]
  },
  {
   "cell_type": "markdown",
   "metadata": {},
   "source": [
    "### 3.5 What is the next step?"
   ]
  },
  {
   "cell_type": "markdown",
   "metadata": {},
   "source": [
    "* In the 2017-18 fall semester, 5 students will be selected, and the following Spring semester another 5.\n",
    "* At the end of this semester, I will send an email to all the students. Students who are interested to join the club can then send email to me for registration. Once the semester GPA is released, I will inform the selection result."
   ]
  }
 ],
 "metadata": {
  "kernelspec": {
   "display_name": "Python 2",
   "language": "python",
   "name": "python2"
  },
  "language_info": {
   "codemirror_mode": {
    "name": "ipython",
    "version": 2
   },
   "file_extension": ".py",
   "mimetype": "text/x-python",
   "name": "python",
   "nbconvert_exporter": "python",
   "pygments_lexer": "ipython2",
   "version": "2.7.13"
  }
 },
 "nbformat": 4,
 "nbformat_minor": 2
}
