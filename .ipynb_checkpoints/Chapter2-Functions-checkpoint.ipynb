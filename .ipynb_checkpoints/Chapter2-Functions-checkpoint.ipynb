{
 "cells": [
  {
   "cell_type": "markdown",
   "metadata": {},
   "source": [
    "# Functions"
   ]
  },
  {
   "cell_type": "markdown",
   "metadata": {},
   "source": [
    "**Dr. Pengfei Zhao**\n",
    "\n",
    "Finance Mathematics Program, \n",
    "\n",
    "BNU-HKBU United International College"
   ]
  },
  {
   "cell_type": "markdown",
   "metadata": {},
   "source": [
    "* A function is a block of organized, reusable code that is used to perform a single, related action. Functions provide better **modularity** for your application and a high degree of **code reusing**. "
   ]
  },
  {
   "cell_type": "markdown",
   "metadata": {},
   "source": [
    "* As you already know, Python gives you many **built-in** functions like print(), etc. but you can also create your own functions. These functions are called **user-defined** functions."
   ]
  },
  {
   "cell_type": "markdown",
   "metadata": {},
   "source": [
    "#### Example"
   ]
  },
  {
   "cell_type": "code",
   "execution_count": 1,
   "metadata": {
    "collapsed": true
   },
   "outputs": [],
   "source": [
    "def sayHello():\n",
    "    print 'Hello World!' # block belonging to the function\n",
    "# End of function"
   ]
  },
  {
   "cell_type": "code",
   "execution_count": 2,
   "metadata": {},
   "outputs": [
    {
     "name": "stdout",
     "output_type": "stream",
     "text": [
      "Hello World!\n"
     ]
    }
   ],
   "source": [
    "sayHello() # call the function"
   ]
  },
  {
   "cell_type": "markdown",
   "metadata": {},
   "source": [
    "## 1. Define a function"
   ]
  },
  {
   "cell_type": "markdown",
   "metadata": {},
   "source": [
    "\n",
    "* You can define functions to provide the required functionality. Here are simple rules to define a function in Python.\n",
    "\n",
    "    * Function blocks begin with the keyword **def** followed by the function name and parentheses ( ( ) ).\n",
    "\n",
    "    * Any input parameters or arguments should be placed within these parentheses. You can also define parameters inside these parentheses.\n",
    "\n",
    "    * The first statement of a function can be an optional statement - the documentation string of the function or docstring.\n",
    "\n",
    "    * The code block within every function starts with a colon (:) and is indented.\n",
    "\n",
    "    * The statement `return [expression]` exits a function, optionally passing back an expression to the caller. A return statement with no arguments is the same as return None.\n"
   ]
  },
  {
   "cell_type": "markdown",
   "metadata": {},
   "source": [
    "### Syntax"
   ]
  },
  {
   "cell_type": "markdown",
   "metadata": {},
   "source": [
    "``` python\n",
    "def functionname(arguments): # arguments are not necessary\n",
    "    \"function_docstring\" # not necessary\n",
    "    function_suite\n",
    "    return [expression]  # not necessary\n",
    "```"
   ]
  },
  {
   "cell_type": "markdown",
   "metadata": {},
   "source": [
    "**Example**"
   ]
  },
  {
   "cell_type": "code",
   "execution_count": 15,
   "metadata": {
    "collapsed": true
   },
   "outputs": [],
   "source": [
    "import math\n",
    "\n",
    "def longest_side(a, b):\n",
    "    \"\"\"\n",
    "    Function to find the length of the longest side of a right triangle.\n",
    "\n",
    "    :arg a: Side a of the triangle\n",
    "    :arg b: Side b of the triangle\n",
    "\n",
    "    :return: Length of the longest side c as float\n",
    "    \"\"\"\n",
    "    return math.sqrt(a*a + b*b)"
   ]
  },
  {
   "cell_type": "code",
   "execution_count": 16,
   "metadata": {},
   "outputs": [
    {
     "name": "stdout",
     "output_type": "stream",
     "text": [
      "6.40312423743\n"
     ]
    }
   ],
   "source": [
    "print longest_side(4, 5)"
   ]
  },
  {
   "cell_type": "markdown",
   "metadata": {},
   "source": [
    "* In Python we use docstrings to explain how to use the code, it will be useful in interactive mode and to create auto-documentation."
   ]
  },
  {
   "cell_type": "code",
   "execution_count": 3,
   "metadata": {
    "collapsed": true
   },
   "outputs": [],
   "source": [
    "?longest_side"
   ]
  },
  {
   "cell_type": "markdown",
   "metadata": {},
   "source": [
    "You can define a very simple and boring function like:"
   ]
  },
  {
   "cell_type": "code",
   "execution_count": 3,
   "metadata": {
    "collapsed": true
   },
   "outputs": [],
   "source": [
    "def func(): # no parameter\n",
    "    pass # no return"
   ]
  },
  {
   "cell_type": "code",
   "execution_count": 7,
   "metadata": {
    "collapsed": true
   },
   "outputs": [],
   "source": [
    "func() #accept nothing, do nothing, returns nothing"
   ]
  },
  {
   "cell_type": "markdown",
   "metadata": {},
   "source": [
    "If you *evaluate* the function above, you can see it returns nothing."
   ]
  },
  {
   "cell_type": "code",
   "execution_count": 8,
   "metadata": {},
   "outputs": [
    {
     "name": "stdout",
     "output_type": "stream",
     "text": [
      "None\n"
     ]
    }
   ],
   "source": [
    "print func()"
   ]
  },
  {
   "cell_type": "code",
   "execution_count": 18,
   "metadata": {
    "collapsed": true
   },
   "outputs": [],
   "source": [
    "def func1(): # no parameter\n",
    "    return"
   ]
  },
  {
   "cell_type": "code",
   "execution_count": 19,
   "metadata": {},
   "outputs": [
    {
     "name": "stdout",
     "output_type": "stream",
     "text": [
      "None\n"
     ]
    }
   ],
   "source": [
    "print func1()"
   ]
  },
  {
   "cell_type": "markdown",
   "metadata": {},
   "source": [
    "But if you *execute* the function, you can see it returns *None*. Actually, it is the default returned abject when nothing is explicitly returned."
   ]
  },
  {
   "cell_type": "markdown",
   "metadata": {},
   "source": [
    "## 3. Calling a function"
   ]
  },
  {
   "cell_type": "markdown",
   "metadata": {},
   "source": [
    "* Defining a function only gives it a name, specifies the parameters that are to be included in the function and structures the blocks of code.\n",
    "\n",
    "* Once the basic structure of a function is finalized, you can execute it by calling it from another function or directly from the Python prompt. "
   ]
  },
  {
   "cell_type": "markdown",
   "metadata": {},
   "source": [
    "**Example**"
   ]
  },
  {
   "cell_type": "code",
   "execution_count": 20,
   "metadata": {
    "collapsed": true
   },
   "outputs": [],
   "source": [
    "\"\"\"Module with a single greeting procedure\n",
    "\n",
    "This module shows off a user-defined procedure, which\n",
    "is a function with no return value\"\"\"\n",
    "\n",
    "def greet(name):\n",
    "    \"\"\"Prints a greeting to the name n\n",
    "\n",
    "    Greeting has format 'Hello <n>!' followed by a conversation starter.\n",
    "\n",
    "    Precondition: n is a string representing a person's name\"\"\"\n",
    "    print 'Hello '+name+'!'\n",
    "    print 'How are you?'"
   ]
  },
  {
   "cell_type": "code",
   "execution_count": 1,
   "metadata": {},
   "outputs": [
    {
     "ename": "NameError",
     "evalue": "name 'greet' is not defined",
     "output_type": "error",
     "traceback": [
      "\u001b[1;31m---------------------------------------------------------------------------\u001b[0m",
      "\u001b[1;31mNameError\u001b[0m                                 Traceback (most recent call last)",
      "\u001b[1;32m<ipython-input-1-88ae33331e1d>\u001b[0m in \u001b[0;36m<module>\u001b[1;34m()\u001b[0m\n\u001b[1;32m----> 1\u001b[1;33m \u001b[0mgreet\u001b[0m\u001b[1;33m(\u001b[0m\u001b[1;34m'FUCK'\u001b[0m\u001b[1;33m)\u001b[0m\u001b[1;33m\u001b[0m\u001b[0m\n\u001b[0m",
      "\u001b[1;31mNameError\u001b[0m: name 'greet' is not defined"
     ]
    }
   ],
   "source": [
    "greet('FU)"
   ]
  },
  {
   "cell_type": "markdown",
   "metadata": {},
   "source": [
    "**Example**"
   ]
  },
  {
   "cell_type": "code",
   "execution_count": 4,
   "metadata": {
    "collapsed": true
   },
   "outputs": [],
   "source": [
    "def second_in_list(s):\n",
    "    \"\"\"Returns: second item in comma-separated list\n",
    "\n",
    "    The final result does not have any whitespace on edges\n",
    "   \n",
    "    Precondition: s is a string of items separated by a comma.\"\"\"\n",
    "    startcomma = s.index(',')\n",
    "    tail = s[startcomma+1:]\n",
    "    endcomma = tail.index(',')\n",
    "    item = tail[:endcomma].strip()\n",
    "    return item  "
   ]
  },
  {
   "cell_type": "code",
   "execution_count": 22,
   "metadata": {},
   "outputs": [
    {
     "name": "stdout",
     "output_type": "stream",
     "text": [
      "you\n"
     ]
    }
   ],
   "source": [
    "s = 'Do, you, like, Python?'\n",
    "print second_in_list(s)"
   ]
  },
  {
   "cell_type": "markdown",
   "metadata": {},
   "source": [
    "**Example**"
   ]
  },
  {
   "cell_type": "code",
   "execution_count": 10,
   "metadata": {},
   "outputs": [
    {
     "name": "stdout",
     "output_type": "stream",
     "text": [
      "0 centigrade in fahrenheit scale is:  32.0\n",
      "100 centigrades in fahrenheit scale is:  212.0\n"
     ]
    }
   ],
   "source": [
    "\"\"\"Conversion functions between fahrentheit and centrigrade\n",
    "\n",
    "This module shows off two functions for converting temperature\n",
    "back and forth between fahrenheit and centigrade.  It also\n",
    "shows how to use variables to represent \"constants\", or values\n",
    "that we give a name in order to remember them better.\"\"\"\n",
    "\n",
    "# Functions\n",
    "def to_centigrade(x):\n",
    "    \"\"\"Returns: x converted to centigrade\n",
    "\n",
    "    Value returned has type float.\n",
    "\n",
    "    Precondition: x is a float measuring temperature in fahrenheit\"\"\"\n",
    "    return 5*(x-32)/9.0\n",
    "\n",
    "\n",
    "def to_fahrenheit(x):\n",
    "    \"\"\"Returns: x converted to fahrenheit\n",
    "\n",
    "    Value returned has type float.\n",
    "\n",
    "    Precondition: x is a float measuring temperature in centigrade\"\"\"\n",
    "    return 9*x/5.0+32\n",
    "\n",
    "\n",
    "# Constants\n",
    "FREEZING_C = 0.0   # Temperature water freezes in centrigrade\n",
    "\n",
    "FREEZING_F = to_fahrenheit(FREEZING_C)\n",
    "print '0 centigrade in fahrenheit scale is: ', FREEZING_F\n",
    "\n",
    "BOILING_C = 100.0  # Temperature water freezes in centrigrade\n",
    "\n",
    "BOILING_F = to_fahrenheit(BOILING_C)\n",
    "print '100 centigrades in fahrenheit scale is: ', BOILING_F"
   ]
  },
  {
   "cell_type": "code",
   "execution_count": 27,
   "metadata": {
    "collapsed": true
   },
   "outputs": [],
   "source": [
    "?to_centigrade"
   ]
  },
  {
   "cell_type": "code",
   "execution_count": 28,
   "metadata": {
    "collapsed": true
   },
   "outputs": [],
   "source": [
    "%pdoc to_centigrade"
   ]
  },
  {
   "cell_type": "code",
   "execution_count": 29,
   "metadata": {
    "collapsed": true
   },
   "outputs": [],
   "source": [
    "?math"
   ]
  },
  {
   "cell_type": "markdown",
   "metadata": {},
   "source": [
    "## 4. Function Arguments (Parameters)"
   ]
  },
  {
   "cell_type": "markdown",
   "metadata": {},
   "source": [
    "* You can call a function by using the following types of formal arguments:\n",
    "\n",
    "    * Required arguments\n",
    "\n",
    "    * Keyword arguments\n",
    "\n",
    "    * Default arguments\n",
    "\n",
    "    * Variable-length arguments\n",
    "\n"
   ]
  },
  {
   "cell_type": "markdown",
   "metadata": {},
   "source": [
    "### 4.1 Required arguments"
   ]
  },
  {
   "cell_type": "markdown",
   "metadata": {},
   "source": [
    "Required arguments are the arguments passed to a function in correct positional order. Here, the number of arguments in the *function call* should match **exactly** with the *function definition*."
   ]
  },
  {
   "cell_type": "markdown",
   "metadata": {},
   "source": [
    "#### Example"
   ]
  },
  {
   "cell_type": "code",
   "execution_count": 12,
   "metadata": {
    "collapsed": true
   },
   "outputs": [],
   "source": [
    "def printme(a,b):\n",
    "   \"\"\"This prints a passed string into this function\"\"\"\n",
    "   print \"a is: \", a, \"b is: \", b"
   ]
  },
  {
   "cell_type": "code",
   "execution_count": 13,
   "metadata": {},
   "outputs": [
    {
     "name": "stdout",
     "output_type": "stream",
     "text": [
      "a is:  1 b is:  2\n"
     ]
    }
   ],
   "source": [
    "# Now you can call printme function\n",
    "printme(1,2)"
   ]
  },
  {
   "cell_type": "markdown",
   "metadata": {},
   "source": [
    "Note, \"1\" and \"2\" are exactly matching to \"a\" and \"b\" here."
   ]
  },
  {
   "cell_type": "markdown",
   "metadata": {},
   "source": [
    "### 4.2 Keyword arguments"
   ]
  },
  {
   "cell_type": "markdown",
   "metadata": {},
   "source": [
    "* Keyword arguments are related to the function calls. When you use keyword arguments in a function call, the caller identifies the arguments by the parameter name.\n",
    "\n",
    "* This allows you to place arguments **out of order** because the Python interpreter is able to use the keywords provided to match the values with parameters. "
   ]
  },
  {
   "cell_type": "markdown",
   "metadata": {},
   "source": [
    "#### Example"
   ]
  },
  {
   "cell_type": "code",
   "execution_count": null,
   "metadata": {
    "collapsed": true
   },
   "outputs": [],
   "source": [
    "def printme(a,b):\n",
    "    \"\"\"This prints a passed string into this function\"\"\"\n",
    "    print \"a is: \", a, \"b is: \", b"
   ]
  },
  {
   "cell_type": "code",
   "execution_count": 15,
   "metadata": {},
   "outputs": [
    {
     "name": "stdout",
     "output_type": "stream",
     "text": [
      "a is:  2 b is:  1\n"
     ]
    }
   ],
   "source": [
    "# You do not need to care about the argument order here due to the help of keyword arguments\n",
    "printme(b=1,a=2)"
   ]
  },
  {
   "cell_type": "markdown",
   "metadata": {},
   "source": [
    "### 4.3 Default arguments"
   ]
  },
  {
   "cell_type": "markdown",
   "metadata": {},
   "source": [
    "* A default argument is an argument that assumes a default value if a value is not provided in the function call for that argument. "
   ]
  },
  {
   "cell_type": "code",
   "execution_count": 16,
   "metadata": {
    "collapsed": true
   },
   "outputs": [],
   "source": [
    "def printme(a,b=10):\n",
    "    \"\"\"This prints a passed string into this function\"\"\"\n",
    "    print \"a is: \", a, \"b is: \", b"
   ]
  },
  {
   "cell_type": "code",
   "execution_count": 17,
   "metadata": {},
   "outputs": [
    {
     "name": "stdout",
     "output_type": "stream",
     "text": [
      "a is:  1 b is:  10\n"
     ]
    }
   ],
   "source": [
    "# You can set argument \"b\" with a default value\n",
    "printme(a=1)"
   ]
  },
  {
   "cell_type": "markdown",
   "metadata": {},
   "source": [
    "### 4.4 Variable-length arguments"
   ]
  },
  {
   "cell_type": "markdown",
   "metadata": {},
   "source": [
    "* You may need to process a function for more arguments than you specified while defining the function. These arguments are called variable-length arguments and are not named in the function definition, unlike *required* and *default* arguments."
   ]
  },
  {
   "cell_type": "markdown",
   "metadata": {},
   "source": [
    "* Syntax for a function with non-keyword variable arguments is:"
   ]
  },
  {
   "cell_type": "markdown",
   "metadata": {},
   "source": [
    "```\n",
    "def functionname([formal_args,] *var_args_tuple ):\n",
    "   function_suite\n",
    "   return [expression]\n",
    "```"
   ]
  },
  {
   "cell_type": "markdown",
   "metadata": {},
   "source": [
    "* An asterisk (*) is placed before the variable name that holds the values of all nonkeyword variable arguments. This tuple remains empty if no additional arguments are specified during the function call."
   ]
  },
  {
   "cell_type": "code",
   "execution_count": 37,
   "metadata": {
    "collapsed": true
   },
   "outputs": [],
   "source": [
    "def printinfo( a, *vartuple ):\n",
    "    \"\"\"This prints a variable passed arguments\"\"\"\n",
    "    print \"Output is: \"\n",
    "    print a\n",
    "    for var in vartuple:\n",
    "        print var"
   ]
  },
  {
   "cell_type": "code",
   "execution_count": 21,
   "metadata": {},
   "outputs": [
    {
     "name": "stdout",
     "output_type": "stream",
     "text": [
      "Output is: \n",
      "hi\n",
      "1\n",
      "2\n",
      "3\n"
     ]
    }
   ],
   "source": [
    "# sometimes, the number of values following 'hi' is not fixed\n",
    "printinfo('hi', 1,2,3)"
   ]
  },
  {
   "cell_type": "markdown",
   "metadata": {},
   "source": [
    "### 4.5 Anonymous Functions and Lambda Operator"
   ]
  },
  {
   "cell_type": "markdown",
   "metadata": {},
   "source": [
    "* These functions are called anonymous because they are not declared in the standard manner by using the def keyword. You can use the lambda keyword to create small anonymous functions.\n",
    "    * Lambda forms can take any number of arguments but return just one value in the form of an expression. They cannot contain commands or multiple expressions.\n",
    "    * An anonymous function cannot be a direct call to print because lambda requires an expression\n",
    "    * Lambda functions have their own local namespace and cannot access variables other than those in their parameter list and those in the global namespace."
   ]
  },
  {
   "cell_type": "markdown",
   "metadata": {},
   "source": [
    "#### Syntax"
   ]
  },
  {
   "cell_type": "markdown",
   "metadata": {},
   "source": [
    "` lambda [arg1 [,arg2,.....argn]]:expression"
   ]
  },
  {
   "cell_type": "markdown",
   "metadata": {},
   "source": [
    "#### Example"
   ]
  },
  {
   "cell_type": "code",
   "execution_count": 22,
   "metadata": {
    "collapsed": true
   },
   "outputs": [],
   "source": [
    "# Function definition is here\n",
    "sum = lambda arg1, arg2: arg1 + arg2;"
   ]
  },
  {
   "cell_type": "code",
   "execution_count": 23,
   "metadata": {},
   "outputs": [
    {
     "name": "stdout",
     "output_type": "stream",
     "text": [
      "Value of total :  30\n",
      "Value of total :  40\n"
     ]
    }
   ],
   "source": [
    "# Now you can call sum as a function\n",
    "print \"Value of total : \", sum( 10, 20 )\n",
    "print \"Value of total : \", sum( 20, 20 )"
   ]
  },
  {
   "cell_type": "markdown",
   "metadata": {},
   "source": [
    "## 5. The return Statement"
   ]
  },
  {
   "cell_type": "markdown",
   "metadata": {},
   "source": [
    "* The statement *return [expression]* exits a function, optionally passing back an expression to the caller. A return statement with no arguments is the same as return *None*."
   ]
  },
  {
   "cell_type": "markdown",
   "metadata": {},
   "source": [
    "* All the above examples are not returning any value. You can return a value from a function as follows"
   ]
  },
  {
   "cell_type": "code",
   "execution_count": 25,
   "metadata": {
    "collapsed": true
   },
   "outputs": [],
   "source": [
    "# Function definition is here\n",
    "def sum( arg1, arg2 ):\n",
    "    # Add both the parameters and return them.\"\n",
    "    total = arg1 + arg2\n",
    "    print \"Inside the function : \", total\n",
    "    return total;"
   ]
  },
  {
   "cell_type": "code",
   "execution_count": 26,
   "metadata": {},
   "outputs": [
    {
     "name": "stdout",
     "output_type": "stream",
     "text": [
      "Inside the function :  30\n",
      "Outside the function :  30\n"
     ]
    }
   ],
   "source": [
    "# Now you can call sum function\n",
    "total = sum( 10, 20 );\n",
    "print \"Outside the function : \", total "
   ]
  },
  {
   "cell_type": "code",
   "execution_count": null,
   "metadata": {
    "collapsed": true
   },
   "outputs": [],
   "source": []
  },
  {
   "cell_type": "markdown",
   "metadata": {},
   "source": [
    "## 6. Pass by reference"
   ]
  },
  {
   "cell_type": "markdown",
   "metadata": {},
   "source": [
    "* All parameters (arguments) in the Python language are passed by reference (Students who have learned C++ will understand this better. For students who have not learned C++, you can just keep this in mind and we will discuss more about this topic in C++ class). It means if you change what a parameter refers to within a function, the change also reflects back in the calling function."
   ]
  },
  {
   "cell_type": "markdown",
   "metadata": {},
   "source": [
    "#### Example"
   ]
  },
  {
   "cell_type": "code",
   "execution_count": 35,
   "metadata": {
    "collapsed": true
   },
   "outputs": [],
   "source": [
    "# Function definition is here\n",
    "def changeme( mylist ):\n",
    "    # This changes a passed list into this function\n",
    "    mylist.append([1,2,3,4]);\n",
    "    print \"Values inside the function: \", mylist"
   ]
  },
  {
   "cell_type": "code",
   "execution_count": 36,
   "metadata": {},
   "outputs": [
    {
     "name": "stdout",
     "output_type": "stream",
     "text": [
      "Values inside the function:  [10, 20, 30, [1, 2, 3, 4]]\n",
      "Values outside the function:  [10, 20, 30, [1, 2, 3, 4]]\n"
     ]
    }
   ],
   "source": [
    "# Now you can call changeme function\n",
    "mylist = [10,20,30];\n",
    "changeme( mylist );\n",
    "print \"Values outside the function: \", mylist"
   ]
  },
  {
   "cell_type": "markdown",
   "metadata": {},
   "source": [
    "Here, we are maintaining reference of the passed object and appending values in the same object. "
   ]
  },
  {
   "cell_type": "markdown",
   "metadata": {},
   "source": [
    "There is one more example where argument is being passed by reference and the reference is being overwritten inside the called function."
   ]
  },
  {
   "cell_type": "code",
   "execution_count": 33,
   "metadata": {
    "collapsed": true
   },
   "outputs": [],
   "source": [
    "# Function definition is here\n",
    "def changeme( mylist ):\n",
    "    # This changes a passed list into this function\n",
    "    mylist = [1,2,3,4]; # This would assig new reference in mylist  \n",
    "    print \"Values inside the function: \", mylist"
   ]
  },
  {
   "cell_type": "code",
   "execution_count": 34,
   "metadata": {},
   "outputs": [
    {
     "name": "stdout",
     "output_type": "stream",
     "text": [
      "Values inside the function:  [1, 2, 3, 4]\n",
      "Values outside the function:  [10, 20, 30]\n"
     ]
    }
   ],
   "source": [
    "# Now you can call changeme function\n",
    "mylist = [10,20,30];\n",
    "changeme( mylist );\n",
    "print \"Values outside the function: \", mylist"
   ]
  },
  {
   "cell_type": "markdown",
   "metadata": {},
   "source": [
    "The parameter `mylist` is local to the function changeme. Changing `mylist` within the function does not affect `mylist` outside the function. Think about it what is the different between this example and previous one."
   ]
  },
  {
   "cell_type": "markdown",
   "metadata": {},
   "source": [
    "## 7. Scope of Variables"
   ]
  },
  {
   "cell_type": "markdown",
   "metadata": {},
   "source": [
    "* All variables in a program may not be accessible at all locations in that program. This depends on where you have declared a variable.\n",
    "\n",
    "* The scope of a variable determines the portion of the program where you can access a particular identifier. There are two basic scopes of variables in Python.\n",
    "    * **Global variables**\n",
    "    * **Local variables**"
   ]
  },
  {
   "cell_type": "markdown",
   "metadata": {},
   "source": [
    "* When you declare variables inside a function definition, they are not related in any way to other variables with the same names used outside the function i.e. variable names are **local** to the function. This is called the **scope** of the variable."
   ]
  },
  {
   "cell_type": "code",
   "execution_count": 51,
   "metadata": {},
   "outputs": [
    {
     "name": "stdout",
     "output_type": "stream",
     "text": [
      "Initial total :  0\n",
      "Inside the function local total :  30\n",
      "Outside the function global total :  0\n"
     ]
    }
   ],
   "source": [
    "total = 0\n",
    "# Function definition is here\n",
    "def sum( arg1, arg2 ):\n",
    "    # Here total is local variable. Change of \"total\" inside function\n",
    "    # will not change the outside \"total\" variable.\n",
    "    total = arg1 + arg2; \n",
    "    print \"Inside the function local total : \", total\n",
    "    return total;\n",
    "\n",
    "# Now you can call sum function\n",
    "print \"Initial total : \", total \n",
    "sum( 10, 20 );\n",
    "print \"Outside the function global total : \", total "
   ]
  },
  {
   "cell_type": "markdown",
   "metadata": {},
   "source": [
    "### The \"global\" keyword"
   ]
  },
  {
   "cell_type": "markdown",
   "metadata": {},
   "source": [
    "* If you want to assign a value to a name defined outside the function, then you have to tell Python that the name is not local, but it is **global**. We do this using the global statement."
   ]
  },
  {
   "cell_type": "code",
   "execution_count": 30,
   "metadata": {},
   "outputs": [
    {
     "name": "stdout",
     "output_type": "stream",
     "text": [
      "Initial total :  0\n",
      "Inside the function local total :  30\n",
      "Outside the function global total :  30\n"
     ]
    }
   ],
   "source": [
    "total = 0\n",
    "\n",
    "def sum( arg1, arg2 ):\n",
    "    global total\n",
    "    # Since \"total\" is explicitly defined as global, change of\n",
    "    # the variable will affect globally.\n",
    "    total = arg1 + arg2; \n",
    "    print \"Inside the function local total : \", total\n",
    "\n",
    "# Now you can call sum function\n",
    "print \"Initial total : \", total \n",
    "sum( 10, 20 );\n",
    "print \"Outside the function global total : \", total "
   ]
  },
  {
   "cell_type": "markdown",
   "metadata": {},
   "source": [
    "* Following the above example, try to comment the `global total` statement, and run the program. See the difference of result."
   ]
  }
 ],
 "metadata": {
  "kernelspec": {
   "display_name": "Python 2",
   "language": "python",
   "name": "python2"
  },
  "language_info": {
   "codemirror_mode": {
    "name": "ipython",
    "version": 2
   },
   "file_extension": ".py",
   "mimetype": "text/x-python",
   "name": "python",
   "nbconvert_exporter": "python",
   "pygments_lexer": "ipython2",
   "version": "2.7.13"
  }
 },
 "nbformat": 4,
 "nbformat_minor": 1
}
